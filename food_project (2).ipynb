{
  "cells": [
    {
      "cell_type": "code",
      "execution_count": null,
      "metadata": {
        "id": "00f52f45"
      },
      "outputs": [],
      "source": [
        "import tensorflow as tf\n",
        "\n",
        "from tensorflow.keras import datasets, layers, models\n",
        "import matplotlib.pyplot as plt\n",
        "import numpy as np\n",
        "import os\n",
        "import PIL\n",
        "import PIL.Image\n",
        "import tensorflow as tf\n",
        "from glob import glob\n",
        "from tensorflow.keras.preprocessing.image import ImageDataGenerator\n",
        "import tensorflow as tf\n",
        "from tensorflow import keras\n",
        "from tensorflow.keras import Sequential\n",
        "from tensorflow.keras.layers import Dense,Conv2D,MaxPooling2D,Flatten,Dropout\n",
        "from tensorflow.keras.preprocessing.image import ImageDataGenerator\n",
        "from tensorflow.keras.callbacks import EarlyStopping\n",
        "import os"
      ],
      "id": "00f52f45"
    },
    {
      "cell_type": "code",
      "execution_count": null,
      "metadata": {
        "colab": {
          "base_uri": "https://localhost:8080/"
        },
        "id": "af0de716",
        "outputId": "73e0b1a9-6514-4f78-d898-14deb3d9f7f9"
      },
      "outputs": [
        {
          "name": "stdout",
          "output_type": "stream",
          "text": [
            "Mounted at /content/drive\n"
          ]
        }
      ],
      "source": [
        "from google.colab import drive\n",
        "drive.mount('/content/drive')"
      ],
      "id": "af0de716"
    },
    {
      "cell_type": "code",
      "execution_count": null,
      "metadata": {
        "id": "fdc7c93a"
      },
      "outputs": [],
      "source": [],
      "id": "fdc7c93a"
    },
    {
      "cell_type": "code",
      "execution_count": null,
      "metadata": {
        "colab": {
          "base_uri": "https://localhost:8080/"
        },
        "id": "f8930744",
        "outputId": "d62c53b5-879b-41c8-a75f-6b1f56a5652e"
      },
      "outputs": [
        {
          "name": "stdout",
          "output_type": "stream",
          "text": [
            "Found 8520 images belonging to 11 classes.\n",
            "Found 1888 images belonging to 11 classes.\n",
            "Found 1912 files belonging to 11 classes.\n",
            "Using 1892 files for validation.\n",
            "Found 8599 files belonging to 11 classes.\n",
            "Using 8591 files for training.\n"
          ]
        }
      ],
      "source": [
        "image_count = len(list(glob(r'/content/drive/MyDrive/states_dataset_2.1/train*.jpg')))\n",
        "keras.utils.set_random_seed(1)\n",
        "\n",
        "batch_size = 32\n",
        "img_height = 227\n",
        "img_width = 227\n",
        "num_classes = 11\n",
        "train_datagen = ImageDataGenerator(\n",
        "                                  shear_range=0.2,\n",
        "                                  zoom_range=0.2, \n",
        "                                  horizontal_flip=True,\n",
        "                                  width_shift_range=0.2,\n",
        "                                  height_shift_range=0.2,\n",
        "                                  validation_split=0.01\n",
        "                                  )\n",
        "image_size = (227, 227)\n",
        "\n",
        "validation_gen = ImageDataGenerator(validation_split=0.99)\n",
        "training_set = train_datagen.flow_from_directory(  r'/content/drive/MyDrive/states_dataset_2.1/train',\n",
        "                                                seed=101,                                                 \n",
        "                                                target_size=image_size,\n",
        "                                                batch_size=32,\n",
        "                                                subset = \"training\",\n",
        "                                                class_mode='sparse')\n",
        "validation_set = validation_gen.flow_from_directory(  r'/content/drive/MyDrive/states_dataset_2.1/valid', \n",
        "                                            target_size=image_size,\n",
        "                                            batch_size=32, \n",
        "                                            subset = \"validation\",\n",
        "                                            class_mode='sparse')\n",
        "val_ds = tf.keras.utils.image_dataset_from_directory(\n",
        "  r'/content/drive/MyDrive/states_dataset_2.1/valid',\n",
        "  validation_split=0.99,\n",
        "  subset=\"validation\",\n",
        "  seed=123,\n",
        "  image_size=(img_height, img_width),\n",
        "  batch_size=batch_size)\n",
        "train_ds = tf.keras.utils.image_dataset_from_directory(\n",
        "r'/content/drive/MyDrive/states_dataset_2.1/train',\n",
        "validation_split=0.001,\n",
        "subset=\"training\",\n",
        "seed=123,\n",
        "image_size=(img_height, img_width),\n",
        "batch_size=batch_size)"
      ],
      "id": "f8930744"
    },
    {
      "cell_type": "code",
      "execution_count": null,
      "metadata": {
        "id": "7d364aa7"
      },
      "outputs": [],
      "source": [],
      "id": "7d364aa7"
    },
    {
      "cell_type": "code",
      "execution_count": null,
      "metadata": {
        "colab": {
          "base_uri": "https://localhost:8080/",
          "height": 146
        },
        "id": "fe76a847",
        "outputId": "b746bdbb-1d44-48ef-8921-c58d582a93d0"
      },
      "outputs": [
        {
          "data": {
            "image/png": "[encoded data removed]",
            "text/plain": [
              "<Figure size 432x288 with 2 Axes>"
            ]
          },
          "metadata": {},
          "output_type": "display_data"
        }
      ],
      "source": [
        "class_names = train_ds.class_names\n",
        "for images, labels in train_ds.take(1):\n",
        "    for i in range(2):\n",
        "        ax = plt.subplot(2, 2, i + 1)\n",
        "        plt.imshow(images[i].numpy().astype(\"uint8\"))\n",
        "        plt.title(class_names[labels[i]])\n",
        "        plt.axis(\"off\")"
      ],
      "id": "fe76a847"
    },
    {
      "cell_type": "code",
      "execution_count": null,
      "metadata": {
        "id": "0c52e94b"
      },
      "outputs": [],
      "source": [],
      "id": "0c52e94b"
    },
    {
      "cell_type": "code",
      "execution_count": null,
      "metadata": {
        "id": "0e260f5d"
      },
      "outputs": [],
      "source": [],
      "id": "0e260f5d"
    },
    {
      "cell_type": "code",
      "execution_count": null,
      "metadata": {
        "id": "8cca594b"
      },
      "outputs": [],
      "source": [],
      "id": "8cca594b"
    },
    {
      "cell_type": "code",
      "execution_count": null,
      "metadata": {
        "id": "885bf126"
      },
      "outputs": [],
      "source": [
        "#best model\n",
        "model = Sequential([\n",
        "  layers.Rescaling(1./255, input_shape=(img_height, img_width, 3)),\n",
        "  layers.Conv2D(64, 3, padding='same', activation='relu'),\n",
        "  # layers.Conv2D(16, 3, padding='same', activation='relu'),\n",
        "  layers.MaxPooling2D(),\n",
        "\n",
        "  layers.Conv2D(64, 3, padding='same', activation='relu'),\n",
        "  # layers.Conv2D(32, 3, padding='same', activation='relu'),\n",
        "  layers.MaxPooling2D(),\n",
        "  # tf.keras.layers.Dropout(0.5),\n",
        "\n",
        "  layers.Conv2D(128, 3, padding='same', activation='relu'),\n",
        "  # layers.Conv2D(64, 3, padding='same', activation='relu'),\n",
        "  layers.MaxPooling2D(),\n",
        "  \n",
        "  layers.Conv2D(128, 3, padding='same', activation='relu'),\n",
        "  layers.MaxPooling2D(),\n",
        "\n",
        "  # layers.Conv2D(256, 3, padding='same', activation='relu'),\n",
        "  # layers.MaxPooling2D(),\n",
        "\n",
        "  layers.Conv2D(256, 3, padding='same', activation='relu'),\n",
        "  layers.MaxPooling2D(),\n",
        "  # tf.keras.layers.Dropout(0.5),\n",
        "  # layers.Conv2D(128, 3, padding='same', activation='relu'),\n",
        "  # # layers.Conv2D(64, 3, padding='same', activation='relu'),\n",
        "  # layers.MaxPooling2D(),\n",
        "  # tf.keras.layers.Dropout(0.6),\n",
        "  # layers.Conv2D(512, 3, padding='same', activation='relu'),\n",
        "  # layers.Conv2D(128, 3, padding='same', activation='relu'),\n",
        "  # layers.Conv2D(128, 3, padding='same', activation='relu'),\n",
        "\n",
        "  layers.MaxPooling2D(),\n",
        "\n",
        "  layers.Flatten(),\n",
        "  layers.Dense(128, activation='relu'),\n",
        "  tf.keras.layers.Dropout(0.6),\n",
        "\n",
        "\n",
        "\n",
        "  layers.Dense(num_classes)\n",
        "])"
      ],
      "id": "885bf126"
    },
    {
      "cell_type": "code",
      "execution_count": null,
      "metadata": {
        "colab": {
          "base_uri": "https://localhost:8080/"
        },
        "id": "902e4cc6",
        "outputId": "9b78367f-2a37-4ee6-f88f-30533846d714"
      },
      "outputs": [
        {
          "name": "stdout",
          "output_type": "stream",
          "text": [
            "Model: \"sequential\"\n",
            "_________________________________________________________________\n",
            " Layer (type)                Output Shape              Param #   \n",
            "=================================================================\n",
            " rescaling (Rescaling)       (None, 227, 227, 3)       0         \n",
            "                                                                 \n",
            " conv2d (Conv2D)             (None, 227, 227, 64)      1792      \n",
            "                                                                 \n",
            " max_pooling2d (MaxPooling2D  (None, 113, 113, 64)     0         \n",
            " )                                                               \n",
            "                                                                 \n",
            " conv2d_1 (Conv2D)           (None, 113, 113, 64)      36928     \n",
            "                                                                 \n",
            " max_pooling2d_1 (MaxPooling  (None, 56, 56, 64)       0         \n",
            " 2D)                                                             \n",
            "                                                                 \n",
            " conv2d_2 (Conv2D)           (None, 56, 56, 128)       73856     \n",
            "                                                                 \n",
            " max_pooling2d_2 (MaxPooling  (None, 28, 28, 128)      0         \n",
            " 2D)                                                             \n",
            "                                                                 \n",
            " conv2d_3 (Conv2D)           (None, 28, 28, 128)       147584    \n",
            "                                                                 \n",
            " max_pooling2d_3 (MaxPooling  (None, 14, 14, 128)      0         \n",
            " 2D)                                                             \n",
            "                                                                 \n",
            " conv2d_4 (Conv2D)           (None, 14, 14, 256)       295168    \n",
            "                                                                 \n",
            " max_pooling2d_4 (MaxPooling  (None, 7, 7, 256)        0         \n",
            " 2D)                                                             \n",
            "                                                                 \n",
            " max_pooling2d_5 (MaxPooling  (None, 3, 3, 256)        0         \n",
            " 2D)                                                             \n",
            "                                                                 \n",
            " flatten (Flatten)           (None, 2304)              0         \n",
            "                                                                 \n",
            " dense (Dense)               (None, 128)               295040    \n",
            "                                                                 \n",
            " dropout (Dropout)           (None, 128)               0         \n",
            "                                                                 \n",
            " dense_1 (Dense)             (None, 11)                1419      \n",
            "                                                                 \n",
            "=================================================================\n",
            "Total params: 851,787\n",
            "Trainable params: 851,787\n",
            "Non-trainable params: 0\n",
            "_________________________________________________________________\n"
          ]
        }
      ],
      "source": [
        "model.summary()"
      ],
      "id": "902e4cc6"
    },
    {
      "cell_type": "code",
      "execution_count": null,
      "metadata": {
        "id": "v5wNC4bwU2lN"
      },
      "outputs": [],
      "source": [
        "tf.keras.backend.clear_session()"
      ],
      "id": "v5wNC4bwU2lN"
    },
    {
      "cell_type": "code",
      "execution_count": null,
      "metadata": {
        "colab": {
          "background_save": true,
          "base_uri": "https://localhost:8080/"
        },
        "id": "a3f31e70",
        "outputId": "0d7d2b0c-e42c-4c82-c624-bb389508caf2"
      },
      "outputs": [
        {
          "name": "stdout",
          "output_type": "stream",
          "text": [
            "Epoch 1/20\n",
            "267/267 [==============================] - 6670s 25s/step - loss: 2.3807 - accuracy: 0.1256 - val_loss: 2.3938 - val_accuracy: 0.1052\n",
            "Epoch 2/20\n",
            "267/267 [==============================] - 191s 716ms/step - loss: 2.3452 - accuracy: 0.1356 - val_loss: 2.3134 - val_accuracy: 0.1533\n",
            "Epoch 3/20\n",
            "267/267 [==============================] - 188s 705ms/step - loss: 2.2584 - accuracy: 0.1808 - val_loss: 2.2052 - val_accuracy: 0.1908\n",
            "Epoch 4/20\n",
            "267/267 [==============================] - 187s 701ms/step - loss: 2.1745 - accuracy: 0.2034 - val_loss: 2.2039 - val_accuracy: 0.1897\n",
            "Epoch 5/20\n",
            "267/267 [==============================] - 188s 704ms/step - loss: 2.1334 - accuracy: 0.2164 - val_loss: 2.1921 - val_accuracy: 0.1897\n",
            "Epoch 6/20\n",
            "267/267 [==============================] - 188s 702ms/step - loss: 2.1107 - accuracy: 0.2357 - val_loss: 2.0644 - val_accuracy: 0.2389\n",
            "Epoch 7/20\n",
            "267/267 [==============================] - 189s 709ms/step - loss: 2.0795 - accuracy: 0.2462 - val_loss: 2.0892 - val_accuracy: 0.2230\n",
            "Epoch 8/20\n",
            "267/267 [==============================] - 187s 699ms/step - loss: 2.0417 - accuracy: 0.2685 - val_loss: 1.9921 - val_accuracy: 0.2727\n",
            "Epoch 9/20\n",
            "267/267 [==============================] - 185s 694ms/step - loss: 1.9879 - accuracy: 0.2878 - val_loss: 1.8688 - val_accuracy: 0.3129\n",
            "Epoch 10/20\n",
            "267/267 [==============================] - 186s 697ms/step - loss: 1.9409 - accuracy: 0.3085 - val_loss: 1.8622 - val_accuracy: 0.3256\n",
            "Epoch 11/20\n",
            "267/267 [==============================] - 186s 696ms/step - loss: 1.8945 - accuracy: 0.3249 - val_loss: 1.8354 - val_accuracy: 0.3235\n",
            "Epoch 12/20\n",
            "267/267 [==============================] - 187s 700ms/step - loss: 1.8601 - accuracy: 0.3369 - val_loss: 1.7695 - val_accuracy: 0.3668\n",
            "Epoch 13/20\n",
            "267/267 [==============================] - 189s 707ms/step - loss: 1.8162 - accuracy: 0.3624 - val_loss: 1.6773 - val_accuracy: 0.4043\n",
            "Epoch 14/20\n",
            "267/267 [==============================] - 187s 699ms/step - loss: 1.7922 - accuracy: 0.3630 - val_loss: 1.6720 - val_accuracy: 0.4138\n",
            "Epoch 15/20\n",
            "267/267 [==============================] - 186s 696ms/step - loss: 1.7605 - accuracy: 0.3832 - val_loss: 1.7217 - val_accuracy: 0.3858\n",
            "Epoch 16/20\n",
            "267/267 [==============================] - 185s 694ms/step - loss: 1.7445 - accuracy: 0.3874 - val_loss: 1.6322 - val_accuracy: 0.4223\n",
            "Epoch 17/20\n",
            "267/267 [==============================] - 185s 694ms/step - loss: 1.7051 - accuracy: 0.3961 - val_loss: 1.6596 - val_accuracy: 0.4202\n",
            "Epoch 18/20\n",
            "267/267 [==============================] - 186s 695ms/step - loss: 1.6764 - accuracy: 0.4136 - val_loss: 1.5729 - val_accuracy: 0.4508\n",
            "Epoch 19/20\n",
            "267/267 [==============================] - 185s 693ms/step - loss: 1.6744 - accuracy: 0.4133 - val_loss: 1.5404 - val_accuracy: 0.4635\n",
            "Epoch 20/20\n",
            "267/267 [==============================] - 184s 691ms/step - loss: 1.6253 - accuracy: 0.4303 - val_loss: 1.5446 - val_accuracy: 0.4561\n"
          ]
        }
      ],
      "source": [
        "\n",
        "model.compile(optimizer='adam',\n",
        "              loss=tf.keras.losses.SparseCategoricalCrossentropy(from_logits=True),\n",
        "              metrics=['accuracy'])\n",
        "# callback = EarlyStopping(monitor='loss', patience=3)\n",
        "# epochs=100\n",
        "history = model.fit(\n",
        "  training_set,\n",
        "  validation_data= val_ds,\n",
        "  epochs=20\n",
        ")\n",
        "\n"
      ],
      "id": "a3f31e70"
    },
    {
      "cell_type": "code",
      "execution_count": null,
      "metadata": {
        "colab": {
          "background_save": true,
          "base_uri": "https://localhost:8080/",
          "height": 295
        },
        "id": "e07d78e0",
        "outputId": "3990dfc1-dc88-42bd-b9b0-d171cea8ee50"
      },
      "outputs": [
        {
          "data": {
            "image/png": "[encoded data removed]",
            "text/plain": [
              "<Figure size 432x288 with 1 Axes>"
            ]
          },
          "metadata": {},
          "output_type": "display_data"
        }
      ],
      "source": [
        "# Plot the validation and test loss for each epoch\n",
        "plt.plot(history.history['loss'])\n",
        "plt.plot(history.history['val_loss'])\n",
        "plt.title('Model loss')\n",
        "plt.ylabel('Loss')\n",
        "plt.xlabel('Epoch')\n",
        "plt.legend(['Train', 'Validation'], loc='upper right')\n",
        "plt.show()"
      ],
      "id": "e07d78e0"
    },
    {
      "cell_type": "code",
      "execution_count": null,
      "metadata": {
        "colab": {
          "background_save": true
        },
        "id": "cQ8rj7XAPzII"
      },
      "outputs": [],
      "source": [
        "model.save('nikil.h5')"
      ],
      "id": "cQ8rj7XAPzII"
    },
    {
      "cell_type": "markdown",
      "metadata": {
        "id": "iDHrD7iwQFp_"
      },
      "source": [
        "**TEST SCRIPT**"
      ],
      "id": "iDHrD7iwQFp_"
    },
    {
      "cell_type": "code",
      "execution_count": null,
      "metadata": {
        "colab": {
          "background_save": true
        },
        "id": "pDesLr98QITp"
      },
      "outputs": [],
      "source": [
        "import tensorflow as tf\n",
        "\n",
        "from tensorflow.keras import datasets, layers, models\n",
        "import matplotlib.pyplot as plt\n",
        "import numpy as np\n",
        "import os\n",
        "import PIL\n",
        "import PIL.Image\n",
        "import tensorflow as tf\n",
        "from glob import glob\n",
        "from tensorflow.keras.preprocessing.image import ImageDataGenerator\n",
        "import tensorflow as tf\n",
        "from tensorflow import keras\n",
        "from tensorflow.keras import Sequential\n",
        "from tensorflow.keras.layers import Dense,Conv2D,MaxPooling2D,Flatten,Dropout\n",
        "from tensorflow.keras.preprocessing.image import ImageDataGenerator\n",
        "from tensorflow.keras.callbacks import EarlyStopping\n",
        "import os\n",
        "import json"
      ],
      "id": "pDesLr98QITp"
    },
    {
      "cell_type": "code",
      "execution_count": null,
      "metadata": {
        "id": "XaxvBrtBQNe7"
      },
      "outputs": [],
      "source": [
        "from google.colab import drive\n",
        "drive.mount('/content/drive')"
      ],
      "id": "XaxvBrtBQNe7"
    },
    {
      "cell_type": "code",
      "execution_count": null,
      "metadata": {
        "id": "BcrgP6aIQQ9q"
      },
      "outputs": [],
      "source": [
        "# Load the trained model\n",
        "model = tf.keras.models.load_model('nikil.h5')\n",
        "class_names=['creamy_paste', 'diced', 'floured', 'grated', 'juiced', 'jullienne', 'mixed', 'other', 'peeled', 'sliced', 'whole']\n",
        "\n",
        "\n",
        "batch_size = 32\n",
        "img_height = 227\n",
        "img_width = 227\n",
        "num_classes = 11\n",
        "image_size = (227, 227)\n",
        "\n",
        "\n",
        "test_ds = tf.keras.utils.image_dataset_from_directory(\n",
        "r'/content/drive/MyDrive/states_dataset_2.1/test/test',\n",
        "labels=None,\n",
        "label_mode=None,\n",
        "image_size=(img_height, img_width),\n",
        "batch_size=batch_size)\n",
        "\n",
        "# Train the model\n",
        "history = model.predict(test_ds)\n",
        "print(history)\n",
        "np.argmax(history,axis=-1)\n",
        "# Replace 'path/to/directory' with the path to the directory containing the JPEG files\n",
        "image_dir = '/content/drive/MyDrive/states_dataset_2.1/test/test/anonymous'\n",
        "\n",
        "# Get a list of all JPEG files in the directory\n",
        "jpg_files = [f for f in os.listdir(image_dir) if f.endswith('.jpg')]\n",
        "\n",
        "# Create a dictionary mapping each filename to a label\n",
        "labels = {}\n",
        "for i, filename in enumerate(jpg_files):\n",
        "    label = np.argmax(history[i], axis=-1)\n",
        "    labels[filename] = label\n",
        "\n",
        "\n",
        "\n",
        "# Print the dictionary\n",
        "print(labels)\n",
        "#array = ['creamy_paste', 'diced', 'floured', 'grated', 'juiced', 'jullienne', 'mixed', 'other', 'peeled', 'sliced', 'whole']\n",
        "\n",
        "for key in labels:\n",
        "    index = labels[key]\n",
        "    labels[key] = class_names[index]\n",
        "\n",
        "print(labels)\n",
        "# Write the dictionary to a JSON file\n",
        "with open('/content/drive/MyDrive/states_dataset_2.1/labels.json', 'w') as f:\n",
        "    json.dump(labels, f)\n",
        "\n",
        "\n",
        "\n",
        "\n",
        "\n",
        "\n",
        "\n"
      ],
      "id": "BcrgP6aIQQ9q"
    },
    {
      "cell_type": "code",
      "execution_count": null,
      "metadata": {
        "id": "IbGL-iHnhiVl"
      },
      "outputs": [],
      "source": [],
      "id": "IbGL-iHnhiVl"
    }
  ],
  "metadata": {
    "accelerator": "GPU",
    "colab": {
      "provenance": []
    },
    "gpuClass": "standard",
    "kernelspec": {
      "display_name": "Python 3 (ipykernel)",
      "language": "python",
      "name": "python3"
    },
    "language_info": {
      "codemirror_mode": {
        "name": "ipython",
        "version": 3
      },
      "file_extension": ".py",
      "mimetype": "text/x-python",
      "name": "python",
      "nbconvert_exporter": "python",
      "pygments_lexer": "ipython3",
      "version": "3.10.5"
    }
  },
  "nbformat": 4,
  "nbformat_minor": 5
}